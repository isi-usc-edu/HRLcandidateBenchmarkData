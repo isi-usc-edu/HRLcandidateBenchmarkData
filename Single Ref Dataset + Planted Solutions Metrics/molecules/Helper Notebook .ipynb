{
 "cells": [
  {
   "cell_type": "code",
   "execution_count": 3,
   "id": "23cb975d",
   "metadata": {},
   "outputs": [],
   "source": [
    "import os\n",
    "import glob"
   ]
  },
  {
   "cell_type": "code",
   "execution_count": 4,
   "id": "9cd94a40",
   "metadata": {},
   "outputs": [
    {
     "data": {
      "text/plain": [
       "['o3@c60/o3@c60_cc-pvtz.chk',\n",
       " 'o3@c80/o3@c80_cc-pvtz.chk',\n",
       " 'o3@c74/o3@c74_cc-pvtz.chk',\n",
       " 'o3@c72/o3@c72_cc-pvtz.chk',\n",
       " 'o3@c70/o3@c70_cc-pvtz.chk',\n",
       " 'o3@c84/o3@c84_cc-pvtz.chk',\n",
       " 'o3@c78/o3@c78_cc-pvtz.chk',\n",
       " 'o3@c76/o3@c76_cc-pvtz.chk',\n",
       " 'o3@c82/o3@c82_cc-pvtz.chk']"
      ]
     },
     "execution_count": 4,
     "metadata": {},
     "output_type": "execute_result"
    }
   ],
   "source": [
    "chks = glob.glob('*/*.chk')\n",
    "chks"
   ]
  },
  {
   "cell_type": "code",
   "execution_count": 5,
   "id": "8ab85c4a",
   "metadata": {},
   "outputs": [
    {
     "data": {
      "text/plain": [
       "[]"
      ]
     },
     "execution_count": 5,
     "metadata": {},
     "output_type": "execute_result"
    }
   ],
   "source": [
    "for chk in chks:\n",
    "    os.remove(chk)\n",
    "glob.glob('*/*.chk')"
   ]
  },
  {
   "cell_type": "code",
   "execution_count": null,
   "id": "ee5bfc73",
   "metadata": {},
   "outputs": [],
   "source": []
  }
 ],
 "metadata": {
  "kernelspec": {
   "display_name": "Python 3 (ipykernel)",
   "language": "python",
   "name": "python3"
  },
  "language_info": {
   "codemirror_mode": {
    "name": "ipython",
    "version": 3
   },
   "file_extension": ".py",
   "mimetype": "text/x-python",
   "name": "python",
   "nbconvert_exporter": "python",
   "pygments_lexer": "ipython3",
   "version": "3.7.12"
  }
 },
 "nbformat": 4,
 "nbformat_minor": 5
}
