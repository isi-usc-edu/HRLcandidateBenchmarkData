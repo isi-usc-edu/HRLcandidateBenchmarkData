{
 "cells": [
  {
   "cell_type": "code",
   "execution_count": 1,
   "metadata": {},
   "outputs": [],
   "source": [
    "import  cirq\n",
    "import  cirq_ft              as      cft\n",
    "import  numpy                as      np\n",
    "import  matplotlib.pyplot    as      plt\n",
    "from    scipy.optimize       import  curve_fit\n",
    "from    cirq.contrib.svg     import  SVGCircuit\n",
    "\n",
    "from pyLIQTR.ProblemInstances.getInstance     import  *\n",
    "from pyLIQTR.BlockEncodings.getEncoding       import  *\n",
    "from pyLIQTR.utils.resource_analysis          import  estimate_resources\n",
    "from pyLIQTR.utils.circuit_decomposition      import  circuit_decompose_multi\n",
    "from pyLIQTR.qubitization.qubitized_gates     import  QubitizedReflection, QubitizedWalkOperator\n",
    "from pyLIQTR.utils.printing                   import  openqasm\n",
    "\n",
    "from pyLIQTR.pest_interface.pest_python       import  pw_to_dpw_cutoff\n"
   ]
  },
  {
   "cell_type": "markdown",
   "metadata": {},
   "source": [
    "Full QPE Circuit ($C^m Z$ gates act on $|\\ell\\rangle$ register of the walk operator $\\mathcal{W}$, this operation is given by ```QubitizedRefection``` below)\n",
    "\n",
    "The operator $\\chi_m$ is Hadamards on all $m$ qubits $H^{\\otimes m}$ and $Z$ operators are controlled on $|1\\rangle$ from the target qubit as well as the qubit in the $|\\ell\\rangle$ register (see below in circuit for the grover iterate or walk operater $\\mathcal{W}$)\n",
    "\n",
    "![alt text](./figs/qpe_circuit.png \"Title\")"
   ]
  },
  {
   "cell_type": "markdown",
   "metadata": {},
   "source": [
    "The un-controlled walk operator $\\mathcal{W}$ and powers of it are contructed from the block encoding of a Daul Plane Wave (DPW) Hamiltonian for solving the electronic structure problem. We need a ```QubitizedReflectio``` on the $|\\ell\\rangle$ register"
   ]
  },
  {
   "cell_type": "markdown",
   "metadata": {},
   "source": [
    "![alt text](figs/walk_op.png \"Title\")"
   ]
  },
  {
   "cell_type": "markdown",
   "metadata": {},
   "source": [
    "Only one instance of the controlled walk operator $C \\mathcal{W}$, we need only control $\\text{SELECT}$ and extend the ```QubtiziedRotation``` to first QPE ancilla."
   ]
  },
  {
   "cell_type": "markdown",
   "metadata": {},
   "source": [
    "![alt text](figs/ctrl_walk_op.png \"Title\")"
   ]
  },
  {
   "cell_type": "markdown",
   "metadata": {},
   "source": [
    "where $C^r_{| 1\\rangle} Z$ is a multi-controlled Z gate controlled on $r$ $|1\\rangle$ states."
   ]
  },
  {
   "cell_type": "markdown",
   "metadata": {},
   "source": [
    "Set the error threshold for energy (atomic units):"
   ]
  },
  {
   "cell_type": "markdown",
   "metadata": {},
   "source": [
    "We want milliHartree accuracy ($10^{-3}$)"
   ]
  },
  {
   "cell_type": "code",
   "execution_count": 4,
   "metadata": {},
   "outputs": [],
   "source": [
    "energy_error = 1e-3"
   ]
  },
  {
   "cell_type": "markdown",
   "metadata": {},
   "source": [
    "Import the target Hamiltonian into a problem instance:"
   ]
  },
  {
   "cell_type": "code",
   "execution_count": 2,
   "metadata": {},
   "outputs": [
    {
     "name": "stdout",
     "output_type": "stream",
     "text": [
      "ElectronicStructure\n",
      "\tHamiltonian filename:mg_dimer_5_ham.hdf5\tGrid filename:mg_dimer_5_grid.hdf5\n",
      "\tN:1458\tM_vals:[ 9  9 18]\n"
     ]
    }
   ],
   "source": [
    "hamhdf5     =  f\"mg_dimer_5_ham.hdf5\"\n",
    "gridhdf5    =  f\"mg_dimer_5_grid.hdf5\"\n",
    "\n",
    "mg_slab = getInstance('ElectronicStructure', filenameH=hamhdf5, filenameG=gridhdf5)\n",
    "print(mg_slab)"
   ]
  },
  {
   "cell_type": "markdown",
   "metadata": {},
   "source": [
    "Estimate the number of bits $m$ for proper accuracy and probability of success:"
   ]
  },
  {
   "cell_type": "code",
   "execution_count": 5,
   "metadata": {},
   "outputs": [
    {
     "data": {
      "text/plain": [
       "28.0"
      ]
     },
     "execution_count": 5,
     "metadata": {},
     "output_type": "execute_result"
    }
   ],
   "source": [
    "m  =  np.ceil(np.log2(np.sqrt(2)*np.pi*mg_slab.get_alpha('LinearT') / (2*energy_error)))\n",
    "m"
   ]
  },
  {
   "cell_type": "markdown",
   "metadata": {},
   "source": [
    "<h4><b>Block Encoding</b></h4>"
   ]
  },
  {
   "cell_type": "markdown",
   "metadata": {},
   "source": [
    "Generate block encodings for use with controlled and uncontrolled walk operators:"
   ]
  },
  {
   "cell_type": "code",
   "execution_count": 6,
   "metadata": {},
   "outputs": [
    {
     "name": "stdout",
     "output_type": "stream",
     "text": [
      "approx_error=4.3e-13\n"
     ]
    }
   ],
   "source": [
    "mg_slab_LinearTEncoding     = getEncoding(VALID_ENCODINGS.LinearT,instance = mg_slab, energy_error=energy_error)\n",
    "print(f\"approx_error={mg_slab_LinearTEncoding.approx_error}\")"
   ]
  },
  {
   "cell_type": "markdown",
   "metadata": {},
   "source": [
    "Get the registers, Cirq operator, and encoding circuit for the n"
   ]
  },
  {
   "cell_type": "code",
   "execution_count": 7,
   "metadata": {},
   "outputs": [],
   "source": [
    "registers                  =   cft.infra.get_named_qubits(mg_slab_LinearTEncoding.signature)\n",
    "mg_slab_operator           =   mg_slab_LinearTEncoding.on_registers(**registers)\n",
    "mg_slab_encoding_circuit   =   mg_slab_LinearTEncoding.circuit"
   ]
  },
  {
   "cell_type": "markdown",
   "metadata": {},
   "source": [
    "Logical resource estimates for the block encoding:"
   ]
  },
  {
   "cell_type": "code",
   "execution_count": 8,
   "metadata": {},
   "outputs": [
    {
     "name": "stdout",
     "output_type": "stream",
     "text": [
      "{'LogicalQubits': 3020, 'T': 953462, 'Clifford': 2394417}\n"
     ]
    }
   ],
   "source": [
    "resource_estimate_encoding = estimate_resources(mg_slab_encoding_circuit,circuit_precision=1e-3)\n",
    "print(resource_estimate_encoding)"
   ]
  },
  {
   "cell_type": "markdown",
   "metadata": {},
   "source": [
    "<h4><b>Block Encoding: Controlled</b></h4>"
   ]
  },
  {
   "cell_type": "markdown",
   "metadata": {},
   "source": [
    "Generate block encodings for use with the controlled walk operator:"
   ]
  },
  {
   "cell_type": "code",
   "execution_count": 12,
   "metadata": {},
   "outputs": [
    {
     "name": "stdout",
     "output_type": "stream",
     "text": [
      "approx_error=4.3e-13\n"
     ]
    }
   ],
   "source": [
    "mg_slab_LinearTEncoding_ctl = getEncoding(VALID_ENCODINGS.LinearT,instance = mg_slab, energy_error=energy_error, control_val=1)\n",
    "\n",
    "print(f\"approx_error={mg_slab_LinearTEncoding_ctl.approx_error}\")"
   ]
  },
  {
   "cell_type": "code",
   "execution_count": 13,
   "metadata": {},
   "outputs": [],
   "source": [
    "registers_ctl                  =   cft.infra.get_named_qubits(mg_slab_LinearTEncoding_ctl.signature)\n",
    "mg_slab_operator_ctl           =   mg_slab_LinearTEncoding_ctl.on_registers(**registers_ctl)\n",
    "mg_slab_encoding_circuit_ctl   =   mg_slab_LinearTEncoding_ctl.circuit"
   ]
  },
  {
   "cell_type": "code",
   "execution_count": 14,
   "metadata": {},
   "outputs": [
    {
     "name": "stdout",
     "output_type": "stream",
     "text": [
      "{'LogicalQubits': 3021, 'T': 953474, 'Clifford': 2394458}\n"
     ]
    }
   ],
   "source": [
    "resource_estimate_encoding_ctl = estimate_resources(mg_slab_encoding_circuit_ctl,circuit_precision=1e-3)\n",
    "print(resource_estimate_encoding_ctl)"
   ]
  },
  {
   "cell_type": "markdown",
   "metadata": {},
   "source": [
    "<h4><b>Walk Operator</b></h4>"
   ]
  },
  {
   "cell_type": "code",
   "execution_count": 15,
   "metadata": {},
   "outputs": [
    {
     "name": "stderr",
     "output_type": "stream",
     "text": [
      "/tmp/ipykernel_3805406/3713057034.py:1: DeprecationWarning: GateWithRegisters was used but is deprecated.\n",
      "It will be removed in cirq v1.4.\n",
      "Cirq-FT is deprecated in favour of Qualtran. pip install qualtran instead.\n",
      "\n",
      "  walk            =    QubitizedWalkOperator(mg_slab_LinearTEncoding)\n"
     ]
    }
   ],
   "source": [
    "walk            =    QubitizedWalkOperator(mg_slab_LinearTEncoding)"
   ]
  },
  {
   "cell_type": "code",
   "execution_count": 16,
   "metadata": {},
   "outputs": [],
   "source": [
    "registers_walk        =   cft.infra.get_named_qubits(walk.signature)\n",
    "walk_op               =   walk.on_registers(**registers_walk)\n",
    "\n",
    "walk_op_circuit   =   cirq.Circuit()\n",
    "walk_op_circuit.append(walk_op)"
   ]
  },
  {
   "cell_type": "code",
   "execution_count": 17,
   "metadata": {},
   "outputs": [
    {
     "name": "stdout",
     "output_type": "stream",
     "text": [
      "{'LogicalQubits': 3021, 'T': 953582, 'Clifford': 2394932}\n"
     ]
    }
   ],
   "source": [
    "resource_estimate_walk = estimate_resources(walk_op_circuit,circuit_precision=1e-3)\n",
    "print(resource_estimate_walk)"
   ]
  },
  {
   "cell_type": "code",
   "execution_count": 18,
   "metadata": {},
   "outputs": [],
   "source": [
    "#print(walk_op_circuit)"
   ]
  },
  {
   "cell_type": "markdown",
   "metadata": {},
   "source": [
    "<h4><b>Walk Operator: Controlled</b></h4>"
   ]
  },
  {
   "cell_type": "code",
   "execution_count": 19,
   "metadata": {},
   "outputs": [
    {
     "name": "stderr",
     "output_type": "stream",
     "text": [
      "/tmp/ipykernel_3805406/2182776922.py:1: DeprecationWarning: GateWithRegisters was used but is deprecated.\n",
      "It will be removed in cirq v1.4.\n",
      "Cirq-FT is deprecated in favour of Qualtran. pip install qualtran instead.\n",
      "\n",
      "  walk_ctl            =    QubitizedWalkOperator(mg_slab_LinearTEncoding_ctl,control_val=1,multi_control_val=1)\n"
     ]
    }
   ],
   "source": [
    "walk_ctl            =    QubitizedWalkOperator(mg_slab_LinearTEncoding_ctl,control_val=1,multi_control_val=1)"
   ]
  },
  {
   "cell_type": "code",
   "execution_count": 20,
   "metadata": {},
   "outputs": [],
   "source": [
    "registers_walk_ctl    =   cft.infra.get_named_qubits(walk_ctl.signature)\n",
    "walk_op_ctl           =   walk_ctl.on_registers(**registers_walk)\n",
    "\n",
    "walk_op_circuit_ctl   =   cirq.Circuit()\n",
    "walk_op_circuit_ctl.append(walk_op_ctl)"
   ]
  },
  {
   "cell_type": "code",
   "execution_count": 21,
   "metadata": {},
   "outputs": [
    {
     "name": "stdout",
     "output_type": "stream",
     "text": [
      "{'LogicalQubits': 3021, 'T': 953594, 'Clifford': 2394973}\n"
     ]
    }
   ],
   "source": [
    "resource_estimate_walk = estimate_resources(walk_op_circuit_ctl,circuit_precision=1e-3)\n",
    "print(resource_estimate_walk)"
   ]
  },
  {
   "cell_type": "markdown",
   "metadata": {},
   "source": [
    "<h4><b>Qubitized Reflection</b></h4>"
   ]
  },
  {
   "cell_type": "code",
   "execution_count": 22,
   "metadata": {},
   "outputs": [
    {
     "name": "stderr",
     "output_type": "stream",
     "text": [
      "/tmp/ipykernel_3805406/3903294793.py:9: DeprecationWarning: GateWithRegisters was used but is deprecated.\n",
      "It will be removed in cirq v1.4.\n",
      "Cirq-FT is deprecated in favour of Qualtran. pip install qualtran instead.\n",
      "\n",
      "  reflection           =   QubitizedReflection(len(selection_qubits),control_val=0)\n"
     ]
    }
   ],
   "source": [
    "selection_registers     =   walk.selection_registers\n",
    "selection_qubits        =   []\n",
    "\n",
    "for reg in selection_registers:\n",
    "    selection_qubits += registers_walk[reg.name].tolist()\n",
    "\n",
    "target_qubit         =   cirq.NamedQubit(\"target\")\n",
    "\n",
    "reflection           =   QubitizedReflection(len(selection_qubits),control_val=0)\n",
    "reflection_op        =   reflection.on_registers(controls=selection_qubits, target=target_qubit)\n",
    "\n",
    "reflection_circuit   =   cirq.Circuit()\n",
    "reflection_circuit.append(reflection_op)"
   ]
  },
  {
   "cell_type": "code",
   "execution_count": 23,
   "metadata": {},
   "outputs": [
    {
     "name": "stdout",
     "output_type": "stream",
     "text": [
      "{'LogicalQubits': 32, 'T': 120, 'Clifford': 577}\n"
     ]
    }
   ],
   "source": [
    "resource_estimate_reflection = estimate_resources(reflection_circuit,circuit_precision=1e-3)\n",
    "print(resource_estimate_reflection)"
   ]
  },
  {
   "cell_type": "code",
   "execution_count": null,
   "metadata": {},
   "outputs": [],
   "source": []
  },
  {
   "cell_type": "code",
   "execution_count": null,
   "metadata": {},
   "outputs": [],
   "source": []
  },
  {
   "cell_type": "code",
   "execution_count": null,
   "metadata": {},
   "outputs": [],
   "source": []
  },
  {
   "cell_type": "code",
   "execution_count": null,
   "metadata": {},
   "outputs": [],
   "source": []
  }
 ],
 "metadata": {
  "kernelspec": {
   "display_name": "Python 3 (ipykernel)",
   "language": "python",
   "name": "python3"
  },
  "language_info": {
   "codemirror_mode": {
    "name": "ipython",
    "version": 3
   },
   "file_extension": ".py",
   "mimetype": "text/x-python",
   "name": "python",
   "nbconvert_exporter": "python",
   "pygments_lexer": "ipython3",
   "version": "3.12.0"
  }
 },
 "nbformat": 4,
 "nbformat_minor": 4
}
