{
 "cells": [
  {
   "cell_type": "code",
   "execution_count": 2,
   "id": "5f0e3613",
   "metadata": {},
   "outputs": [],
   "source": [
    "import os\n",
    "import glob"
   ]
  },
  {
   "cell_type": "code",
   "execution_count": null,
   "id": "51f01358",
   "metadata": {},
   "outputs": [],
   "source": [
    "# Build PySCF molecule\n",
    "\n",
    "molecule = gto.Mole()\n",
    "molecule.atom = [\n",
    "    ('O', (0, 0, 0)),\n",
    "    ('H', (0, -0.757, 0.587)),\n",
    "    ('H', (0, 0.757, 0.587))\n",
    "]\n",
    "molecule.basis = 'sto-3g'\n",
    "molecule.build()\n",
    "\n",
    "# Calculate the number of electrons\n",
    "num_electrons = h2o_molecule.nelectron\n",
    "\n",
    "# Calculate the number of orbitals\n",
    "num_orbitals = h2o_molecule.nao\n"
   ]
  },
  {
   "cell_type": "code",
   "execution_count": null,
   "id": "38e78543",
   "metadata": {},
   "outputs": [],
   "source": [
    "# Add full space to CAS list"
   ]
  }
 ],
 "metadata": {
  "kernelspec": {
   "display_name": "Python 3 (ipykernel)",
   "language": "python",
   "name": "python3"
  },
  "language_info": {
   "codemirror_mode": {
    "name": "ipython",
    "version": 3
   },
   "file_extension": ".py",
   "mimetype": "text/x-python",
   "name": "python",
   "nbconvert_exporter": "python",
   "pygments_lexer": "ipython3",
   "version": "3.7.12"
  }
 },
 "nbformat": 4,
 "nbformat_minor": 5
}
